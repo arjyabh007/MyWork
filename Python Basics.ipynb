{
 "cells": [
  {
   "cell_type": "code",
   "execution_count": 1,
   "id": "c44bc41b",
   "metadata": {},
   "outputs": [
    {
     "name": "stdout",
     "output_type": "stream",
     "text": [
      " Sell me this pen.\n"
     ]
    }
   ],
   "source": [
    "print (\" Sell me this pen.\")"
   ]
  },
  {
   "cell_type": "code",
   "execution_count": 2,
   "id": "effa09fd",
   "metadata": {},
   "outputs": [],
   "source": [
    "employee_name = \"Arjya\""
   ]
  },
  {
   "cell_type": "code",
   "execution_count": 3,
   "id": "63b7eebf",
   "metadata": {},
   "outputs": [
    {
     "data": {
      "text/plain": [
       "'Arjya'"
      ]
     },
     "execution_count": 3,
     "metadata": {},
     "output_type": "execute_result"
    }
   ],
   "source": [
    "employee_name"
   ]
  },
  {
   "cell_type": "code",
   "execution_count": 4,
   "id": "81a05b45",
   "metadata": {},
   "outputs": [
    {
     "data": {
      "text/plain": [
       "69"
      ]
     },
     "execution_count": 4,
     "metadata": {},
     "output_type": "execute_result"
    }
   ],
   "source": [
    "a1 = 69\n",
    "a1"
   ]
  },
  {
   "cell_type": "code",
   "execution_count": 5,
   "id": "c20cf886",
   "metadata": {},
   "outputs": [
    {
     "data": {
      "text/plain": [
       "int"
      ]
     },
     "execution_count": 5,
     "metadata": {},
     "output_type": "execute_result"
    }
   ],
   "source": [
    "type(a1)"
   ]
  },
  {
   "cell_type": "code",
   "execution_count": 6,
   "id": "1d1e2fa5",
   "metadata": {},
   "outputs": [
    {
     "data": {
      "text/plain": [
       "str"
      ]
     },
     "execution_count": 6,
     "metadata": {},
     "output_type": "execute_result"
    }
   ],
   "source": [
    "a2 = 9.58\n",
    "type(a2)\n",
    "a3 = True\n",
    "type(a3)\n",
    "a4 = \"India\"\n",
    "type(a4)"
   ]
  },
  {
   "cell_type": "code",
   "execution_count": 7,
   "id": "e444722d",
   "metadata": {},
   "outputs": [
    {
     "data": {
      "text/plain": [
       "float"
      ]
     },
     "execution_count": 7,
     "metadata": {},
     "output_type": "execute_result"
    }
   ],
   "source": [
    "type(a2)"
   ]
  },
  {
   "cell_type": "code",
   "execution_count": 8,
   "id": "f7f11c26",
   "metadata": {},
   "outputs": [
    {
     "data": {
      "text/plain": [
       "bool"
      ]
     },
     "execution_count": 8,
     "metadata": {},
     "output_type": "execute_result"
    }
   ],
   "source": [
    "type(a3)"
   ]
  },
  {
   "cell_type": "code",
   "execution_count": 9,
   "id": "b7be8130",
   "metadata": {},
   "outputs": [
    {
     "data": {
      "text/plain": [
       "complex"
      ]
     },
     "execution_count": 9,
     "metadata": {},
     "output_type": "execute_result"
    }
   ],
   "source": [
    "a5 = 6+7j\n",
    "type(a5)"
   ]
  },
  {
   "cell_type": "code",
   "execution_count": 10,
   "id": "6772ff35",
   "metadata": {},
   "outputs": [],
   "source": [
    "# Strings"
   ]
  },
  {
   "cell_type": "code",
   "execution_count": 12,
   "id": "7f2e612e",
   "metadata": {},
   "outputs": [
    {
     "data": {
      "text/plain": [
       "' This is a\\nmultiline\\nstring'"
      ]
     },
     "execution_count": 12,
     "metadata": {},
     "output_type": "execute_result"
    }
   ],
   "source": [
    "s1 = ''' This is a\n",
    "multiline\n",
    "string'''\n",
    "s1"
   ]
  },
  {
   "cell_type": "code",
   "execution_count": 13,
   "id": "eabd46d7",
   "metadata": {},
   "outputs": [
    {
     "data": {
      "text/plain": [
       "' '"
      ]
     },
     "execution_count": 13,
     "metadata": {},
     "output_type": "execute_result"
    }
   ],
   "source": [
    "s1[0]"
   ]
  },
  {
   "cell_type": "code",
   "execution_count": 14,
   "id": "497c2d09",
   "metadata": {},
   "outputs": [
    {
     "data": {
      "text/plain": [
       "'s'"
      ]
     },
     "execution_count": 14,
     "metadata": {},
     "output_type": "execute_result"
    }
   ],
   "source": [
    "s1[7]"
   ]
  },
  {
   "cell_type": "code",
   "execution_count": 15,
   "id": "4967571a",
   "metadata": {},
   "outputs": [
    {
     "data": {
      "text/plain": [
       "' This is a\\nm'"
      ]
     },
     "execution_count": 15,
     "metadata": {},
     "output_type": "execute_result"
    }
   ],
   "source": [
    "s1[0:12]"
   ]
  },
  {
   "cell_type": "code",
   "execution_count": 16,
   "id": "21f5db1f",
   "metadata": {},
   "outputs": [
    {
     "data": {
      "text/plain": [
       "'ltiline\\ns'"
      ]
     },
     "execution_count": 16,
     "metadata": {},
     "output_type": "execute_result"
    }
   ],
   "source": [
    "s1[13:22]"
   ]
  },
  {
   "cell_type": "code",
   "execution_count": 17,
   "id": "590a446c",
   "metadata": {},
   "outputs": [
    {
     "data": {
      "text/plain": [
       "'multiline'"
      ]
     },
     "execution_count": 17,
     "metadata": {},
     "output_type": "execute_result"
    }
   ],
   "source": [
    "s1[11:20]"
   ]
  },
  {
   "cell_type": "code",
   "execution_count": 18,
   "id": "f63ba8b2",
   "metadata": {},
   "outputs": [],
   "source": [
    "#String functions"
   ]
  },
  {
   "cell_type": "code",
   "execution_count": 19,
   "id": "0d90fd12",
   "metadata": {},
   "outputs": [
    {
     "data": {
      "text/plain": [
       "27"
      ]
     },
     "execution_count": 19,
     "metadata": {},
     "output_type": "execute_result"
    }
   ],
   "source": [
    "len(s1)"
   ]
  },
  {
   "cell_type": "code",
   "execution_count": 20,
   "id": "812815b4",
   "metadata": {},
   "outputs": [
    {
     "data": {
      "text/plain": [
       "' THIS IS A\\nMULTILINE\\nSTRING'"
      ]
     },
     "execution_count": 20,
     "metadata": {},
     "output_type": "execute_result"
    }
   ],
   "source": [
    "s1.upper()"
   ]
  },
  {
   "cell_type": "code",
   "execution_count": 21,
   "id": "217ff8b3",
   "metadata": {},
   "outputs": [
    {
     "data": {
      "text/plain": [
       "' this is a\\nmultiline\\nstring'"
      ]
     },
     "execution_count": 21,
     "metadata": {},
     "output_type": "execute_result"
    }
   ],
   "source": [
    "s1.lower()"
   ]
  },
  {
   "cell_type": "code",
   "execution_count": 22,
   "id": "59a8c347",
   "metadata": {},
   "outputs": [
    {
     "data": {
      "text/plain": [
       "' This is a\\nnultiline\\nstring'"
      ]
     },
     "execution_count": 22,
     "metadata": {},
     "output_type": "execute_result"
    }
   ],
   "source": [
    "s1.replace('m','n')"
   ]
  },
  {
   "cell_type": "code",
   "execution_count": 23,
   "id": "0d2c57db",
   "metadata": {},
   "outputs": [
    {
     "data": {
      "text/plain": [
       "1"
      ]
     },
     "execution_count": 23,
     "metadata": {},
     "output_type": "execute_result"
    }
   ],
   "source": [
    "s2 = \"Hello hello....is there anybody in there?\"\n",
    "s2.count(\"hello\")"
   ]
  },
  {
   "cell_type": "code",
   "execution_count": 24,
   "id": "c68877ca",
   "metadata": {},
   "outputs": [
    {
     "data": {
      "text/plain": [
       "1"
      ]
     },
     "execution_count": 24,
     "metadata": {},
     "output_type": "execute_result"
    }
   ],
   "source": [
    "s2 = \"Hello hello....is there anybody in there?\"\n",
    "s2.count(\"Hello\")"
   ]
  },
  {
   "cell_type": "code",
   "execution_count": 25,
   "id": "4475ee95",
   "metadata": {},
   "outputs": [
    {
     "data": {
      "text/plain": [
       "2"
      ]
     },
     "execution_count": 25,
     "metadata": {},
     "output_type": "execute_result"
    }
   ],
   "source": [
    "s2 = \"hello hello....is there anybody in there\"\n",
    "s2.count(\"hello\")"
   ]
  },
  {
   "cell_type": "code",
   "execution_count": 26,
   "id": "ba383d9b",
   "metadata": {},
   "outputs": [
    {
     "data": {
      "text/plain": [
       "0"
      ]
     },
     "execution_count": 26,
     "metadata": {},
     "output_type": "execute_result"
    }
   ],
   "source": [
    "s2 = \"Hello Hello....is there anybody in there\"\n",
    "s2.count(\"hello\")"
   ]
  },
  {
   "cell_type": "code",
   "execution_count": 27,
   "id": "6ca6a887",
   "metadata": {},
   "outputs": [
    {
     "data": {
      "text/plain": [
       "2"
      ]
     },
     "execution_count": 27,
     "metadata": {},
     "output_type": "execute_result"
    }
   ],
   "source": [
    "s2 = \"Hello Hello....is there anybody in there\"\n",
    "s2.count(\"Hello\")"
   ]
  },
  {
   "cell_type": "code",
   "execution_count": 28,
   "id": "f2a5091c",
   "metadata": {},
   "outputs": [
    {
     "data": {
      "text/plain": [
       "24"
      ]
     },
     "execution_count": 28,
     "metadata": {},
     "output_type": "execute_result"
    }
   ],
   "source": [
    "s2.find(\"anybody\")"
   ]
  },
  {
   "cell_type": "code",
   "execution_count": 29,
   "id": "cb203b18",
   "metadata": {},
   "outputs": [
    {
     "data": {
      "text/plain": [
       "['Hello Hello', '.is there anybody in there']"
      ]
     },
     "execution_count": 29,
     "metadata": {},
     "output_type": "execute_result"
    }
   ],
   "source": [
    "s2.split(\"...\")"
   ]
  },
  {
   "cell_type": "code",
   "execution_count": 30,
   "id": "cde93c25",
   "metadata": {},
   "outputs": [
    {
     "data": {
      "text/plain": [
       "['Hello Hello', '', '', '', 'is there anybody in there']"
      ]
     },
     "execution_count": 30,
     "metadata": {},
     "output_type": "execute_result"
    }
   ],
   "source": [
    "s2.split(\".\")"
   ]
  },
  {
   "cell_type": "code",
   "execution_count": 31,
   "id": "6c69ea26",
   "metadata": {},
   "outputs": [
    {
     "data": {
      "text/plain": [
       "['Hello Hello', '', 'is there anybody in there']"
      ]
     },
     "execution_count": 31,
     "metadata": {},
     "output_type": "execute_result"
    }
   ],
   "source": [
    "s2.split(\"..\")"
   ]
  },
  {
   "cell_type": "code",
   "execution_count": 32,
   "id": "d1f380f6",
   "metadata": {},
   "outputs": [],
   "source": [
    "#tuples"
   ]
  },
  {
   "cell_type": "code",
   "execution_count": 33,
   "id": "b627e126",
   "metadata": {},
   "outputs": [],
   "source": [
    "tup1 = (69, 'Arjya', True)"
   ]
  },
  {
   "cell_type": "code",
   "execution_count": 34,
   "id": "5ee9ce55",
   "metadata": {},
   "outputs": [
    {
     "data": {
      "text/plain": [
       "(69, 'Arjya', True)"
      ]
     },
     "execution_count": 34,
     "metadata": {},
     "output_type": "execute_result"
    }
   ],
   "source": [
    "tup1"
   ]
  },
  {
   "cell_type": "code",
   "execution_count": 35,
   "id": "32ab63a6",
   "metadata": {},
   "outputs": [
    {
     "data": {
      "text/plain": [
       "True"
      ]
     },
     "execution_count": 35,
     "metadata": {},
     "output_type": "execute_result"
    }
   ],
   "source": [
    "tup1[-1]\n",
    "#last element"
   ]
  },
  {
   "cell_type": "code",
   "execution_count": 36,
   "id": "3d3adde1",
   "metadata": {},
   "outputs": [
    {
     "data": {
      "text/plain": [
       "(69, 'Arjya')"
      ]
     },
     "execution_count": 36,
     "metadata": {},
     "output_type": "execute_result"
    }
   ],
   "source": [
    "tup1[0:-1]"
   ]
  },
  {
   "cell_type": "code",
   "execution_count": 37,
   "id": "4a31af18",
   "metadata": {},
   "outputs": [
    {
     "data": {
      "text/plain": [
       "('Arjya',)"
      ]
     },
     "execution_count": 37,
     "metadata": {},
     "output_type": "execute_result"
    }
   ],
   "source": [
    "tup1[1:2]"
   ]
  },
  {
   "cell_type": "code",
   "execution_count": 39,
   "id": "f8cf7ef3",
   "metadata": {},
   "outputs": [
    {
     "data": {
      "text/plain": [
       "(69, 'Arjya')"
      ]
     },
     "execution_count": 39,
     "metadata": {},
     "output_type": "execute_result"
    }
   ],
   "source": [
    "tup1[0:2]"
   ]
  },
  {
   "cell_type": "code",
   "execution_count": 40,
   "id": "1595c255",
   "metadata": {},
   "outputs": [
    {
     "data": {
      "text/plain": [
       "(69, 'Arjya', True, 70, 'Santa', False)"
      ]
     },
     "execution_count": 40,
     "metadata": {},
     "output_type": "execute_result"
    }
   ],
   "source": [
    "tup1 = (69, 'Arjya', True)\n",
    "tup2 = (70, 'Santa', False)\n",
    "tup1+tup2\n",
    "#Concatenate"
   ]
  },
  {
   "cell_type": "code",
   "execution_count": 41,
   "id": "ea154bd5",
   "metadata": {},
   "outputs": [
    {
     "data": {
      "text/plain": [
       "3"
      ]
     },
     "execution_count": 41,
     "metadata": {},
     "output_type": "execute_result"
    }
   ],
   "source": [
    "len(tup2)"
   ]
  },
  {
   "cell_type": "code",
   "execution_count": 42,
   "id": "6baab190",
   "metadata": {},
   "outputs": [
    {
     "data": {
      "text/plain": [
       "(70, 'Santa', False, 70, 'Santa', False)"
      ]
     },
     "execution_count": 42,
     "metadata": {},
     "output_type": "execute_result"
    }
   ],
   "source": [
    "tup2*2\n",
    "#Repeate"
   ]
  },
  {
   "cell_type": "code",
   "execution_count": 43,
   "id": "84a31347",
   "metadata": {},
   "outputs": [
    {
     "data": {
      "text/plain": [
       "(70, 'Santa', False, 70, 'Santa', False, 71, 'Shila', (5+7j))"
      ]
     },
     "execution_count": 43,
     "metadata": {},
     "output_type": "execute_result"
    }
   ],
   "source": [
    "tup3= (71, 'Shila', 5+7j)\n",
    "tup2*2+tup3\n",
    "#Concatenate+Repeat"
   ]
  },
  {
   "cell_type": "code",
   "execution_count": 44,
   "id": "4db4231a",
   "metadata": {},
   "outputs": [],
   "source": [
    "#list"
   ]
  },
  {
   "cell_type": "code",
   "execution_count": 46,
   "id": "4c0ba865",
   "metadata": {},
   "outputs": [
    {
     "data": {
      "text/plain": [
       "[1, 'Casilas', (7+9j)]"
      ]
     },
     "execution_count": 46,
     "metadata": {},
     "output_type": "execute_result"
    }
   ],
   "source": [
    "l1 =[1, 'Casilas' ,7+9j]\n",
    "l1"
   ]
  },
  {
   "cell_type": "code",
   "execution_count": 47,
   "id": "b4fc59ab",
   "metadata": {},
   "outputs": [
    {
     "data": {
      "text/plain": [
       "3"
      ]
     },
     "execution_count": 47,
     "metadata": {},
     "output_type": "execute_result"
    }
   ],
   "source": [
    "len(l1)"
   ]
  },
  {
   "cell_type": "code",
   "execution_count": 48,
   "id": "34b25c01",
   "metadata": {},
   "outputs": [],
   "source": [
    "l1[1]= 'Kahn'"
   ]
  },
  {
   "cell_type": "code",
   "execution_count": 49,
   "id": "b26a75be",
   "metadata": {},
   "outputs": [
    {
     "data": {
      "text/plain": [
       "[1, 'Kahn', (7+9j)]"
      ]
     },
     "execution_count": 49,
     "metadata": {},
     "output_type": "execute_result"
    }
   ],
   "source": [
    "l1"
   ]
  },
  {
   "cell_type": "code",
   "execution_count": 50,
   "id": "f4dc363e",
   "metadata": {},
   "outputs": [
    {
     "ename": "AttributeError",
     "evalue": "'list' object has no attribute 'upper'",
     "output_type": "error",
     "traceback": [
      "\u001b[1;31m---------------------------------------------------------------------------\u001b[0m",
      "\u001b[1;31mAttributeError\u001b[0m                            Traceback (most recent call last)",
      "Cell \u001b[1;32mIn[50], line 1\u001b[0m\n\u001b[1;32m----> 1\u001b[0m l1\u001b[38;5;241m.\u001b[39mupper()\n",
      "\u001b[1;31mAttributeError\u001b[0m: 'list' object has no attribute 'upper'"
     ]
    }
   ],
   "source": [
    "l1.upper()"
   ]
  },
  {
   "cell_type": "code",
   "execution_count": 51,
   "id": "fc3f0f69",
   "metadata": {},
   "outputs": [
    {
     "data": {
      "text/plain": [
       "'KAHN'"
      ]
     },
     "execution_count": 51,
     "metadata": {},
     "output_type": "execute_result"
    }
   ],
   "source": [
    "l1[1].upper()"
   ]
  },
  {
   "cell_type": "code",
   "execution_count": 52,
   "id": "0d645b2f",
   "metadata": {},
   "outputs": [
    {
     "data": {
      "text/plain": [
       "[1, 'Kahn', (7+9j)]"
      ]
     },
     "execution_count": 52,
     "metadata": {},
     "output_type": "execute_result"
    }
   ],
   "source": [
    "l1.reverse\n",
    "l1"
   ]
  },
  {
   "cell_type": "code",
   "execution_count": 53,
   "id": "2a0cb5f5",
   "metadata": {},
   "outputs": [],
   "source": [
    "l1.reverse()"
   ]
  },
  {
   "cell_type": "code",
   "execution_count": 54,
   "id": "e688d972",
   "metadata": {},
   "outputs": [
    {
     "data": {
      "text/plain": [
       "[(7+9j), 'Kahn', 1]"
      ]
     },
     "execution_count": 54,
     "metadata": {},
     "output_type": "execute_result"
    }
   ],
   "source": [
    "l1"
   ]
  },
  {
   "cell_type": "code",
   "execution_count": 55,
   "id": "18b257ab",
   "metadata": {},
   "outputs": [
    {
     "ename": "TypeError",
     "evalue": "list indices must be integers or slices, not tuple",
     "output_type": "error",
     "traceback": [
      "\u001b[1;31m---------------------------------------------------------------------------\u001b[0m",
      "\u001b[1;31mTypeError\u001b[0m                                 Traceback (most recent call last)",
      "Cell \u001b[1;32mIn[55], line 1\u001b[0m\n\u001b[1;32m----> 1\u001b[0m l1[\u001b[38;5;241m1\u001b[39m, \u001b[38;5;124m'\u001b[39m\u001b[38;5;124mBuffon\u001b[39m\u001b[38;5;124m'\u001b[39m]\n\u001b[0;32m      2\u001b[0m l1\n",
      "\u001b[1;31mTypeError\u001b[0m: list indices must be integers or slices, not tuple"
     ]
    }
   ],
   "source": [
    "l1[1, 'Buffon']\n",
    "l1"
   ]
  },
  {
   "cell_type": "code",
   "execution_count": 56,
   "id": "281433f6",
   "metadata": {},
   "outputs": [
    {
     "ename": "AttributeError",
     "evalue": "'list' object has no attribute 'replace'",
     "output_type": "error",
     "traceback": [
      "\u001b[1;31m---------------------------------------------------------------------------\u001b[0m",
      "\u001b[1;31mAttributeError\u001b[0m                            Traceback (most recent call last)",
      "Cell \u001b[1;32mIn[56], line 1\u001b[0m\n\u001b[1;32m----> 1\u001b[0m l1\u001b[38;5;241m.\u001b[39mreplace(\u001b[38;5;241m1\u001b[39m, \u001b[38;5;124m'\u001b[39m\u001b[38;5;124mBuffon\u001b[39m\u001b[38;5;124m'\u001b[39m)\n\u001b[0;32m      2\u001b[0m l1\n",
      "\u001b[1;31mAttributeError\u001b[0m: 'list' object has no attribute 'replace'"
     ]
    }
   ],
   "source": [
    "l1.replace(1, 'Buffon')\n",
    "l1"
   ]
  },
  {
   "cell_type": "code",
   "execution_count": 57,
   "id": "669a21fa",
   "metadata": {},
   "outputs": [
    {
     "data": {
      "text/plain": [
       "[(7+9j), 'Buffon', 'Kahn', 1]"
      ]
     },
     "execution_count": 57,
     "metadata": {},
     "output_type": "execute_result"
    }
   ],
   "source": [
    "l1.insert(1, 'Buffon')\n",
    "l1"
   ]
  },
  {
   "cell_type": "code",
   "execution_count": 58,
   "id": "a3783ad5",
   "metadata": {},
   "outputs": [
    {
     "data": {
      "text/plain": [
       "4"
      ]
     },
     "execution_count": 58,
     "metadata": {},
     "output_type": "execute_result"
    }
   ],
   "source": [
    "len(l1)"
   ]
  },
  {
   "cell_type": "code",
   "execution_count": 59,
   "id": "e62d376f",
   "metadata": {},
   "outputs": [
    {
     "ename": "AttributeError",
     "evalue": "'list' object has no attribute 'replace'",
     "output_type": "error",
     "traceback": [
      "\u001b[1;31m---------------------------------------------------------------------------\u001b[0m",
      "\u001b[1;31mAttributeError\u001b[0m                            Traceback (most recent call last)",
      "Cell \u001b[1;32mIn[59], line 1\u001b[0m\n\u001b[1;32m----> 1\u001b[0m l1\u001b[38;5;241m.\u001b[39mreplace(\u001b[38;5;241m1\u001b[39m, \u001b[38;5;124m'\u001b[39m\u001b[38;5;124mVan der sar\u001b[39m\u001b[38;5;124m'\u001b[39m)\n\u001b[0;32m      2\u001b[0m l1\n",
      "\u001b[1;31mAttributeError\u001b[0m: 'list' object has no attribute 'replace'"
     ]
    }
   ],
   "source": [
    "l1.replace(1, 'Van der sar')\n",
    "l1"
   ]
  },
  {
   "cell_type": "code",
   "execution_count": 60,
   "id": "9235a51f",
   "metadata": {},
   "outputs": [
    {
     "ename": "TypeError",
     "evalue": "'<' not supported between instances of 'str' and 'complex'",
     "output_type": "error",
     "traceback": [
      "\u001b[1;31m---------------------------------------------------------------------------\u001b[0m",
      "\u001b[1;31mTypeError\u001b[0m                                 Traceback (most recent call last)",
      "Cell \u001b[1;32mIn[60], line 1\u001b[0m\n\u001b[1;32m----> 1\u001b[0m l1\u001b[38;5;241m.\u001b[39msort()\n\u001b[0;32m      2\u001b[0m l1\n",
      "\u001b[1;31mTypeError\u001b[0m: '<' not supported between instances of 'str' and 'complex'"
     ]
    }
   ],
   "source": [
    "l1.sort()\n",
    "l1"
   ]
  },
  {
   "cell_type": "code",
   "execution_count": 61,
   "id": "a67796af",
   "metadata": {},
   "outputs": [
    {
     "ename": "AttributeError",
     "evalue": "'tuple' object has no attribute 'sort'",
     "output_type": "error",
     "traceback": [
      "\u001b[1;31m---------------------------------------------------------------------------\u001b[0m",
      "\u001b[1;31mAttributeError\u001b[0m                            Traceback (most recent call last)",
      "Cell \u001b[1;32mIn[61], line 2\u001b[0m\n\u001b[0;32m      1\u001b[0m l2\u001b[38;5;241m=\u001b[39m (\u001b[38;5;124m'\u001b[39m\u001b[38;5;124mBangladesh\u001b[39m\u001b[38;5;124m'\u001b[39m, \u001b[38;5;124m'\u001b[39m\u001b[38;5;124mAustria\u001b[39m\u001b[38;5;124m'\u001b[39m, \u001b[38;5;124m'\u001b[39m\u001b[38;5;124mDenmark\u001b[39m\u001b[38;5;124m'\u001b[39m, \u001b[38;5;124m'\u001b[39m\u001b[38;5;124mCanada\u001b[39m\u001b[38;5;124m'\u001b[39m)\n\u001b[1;32m----> 2\u001b[0m l2\u001b[38;5;241m.\u001b[39msort()\n\u001b[0;32m      3\u001b[0m l2\n",
      "\u001b[1;31mAttributeError\u001b[0m: 'tuple' object has no attribute 'sort'"
     ]
    }
   ],
   "source": [
    "l2= ('Bangladesh', 'Austria', 'Denmark', 'Canada')\n",
    "l2.sort()\n",
    "l2"
   ]
  },
  {
   "cell_type": "code",
   "execution_count": 62,
   "id": "4c9ba803",
   "metadata": {},
   "outputs": [
    {
     "data": {
      "text/plain": [
       "['Austria', 'Bangladesh', 'Canada', 'Denmark']"
      ]
     },
     "execution_count": 62,
     "metadata": {},
     "output_type": "execute_result"
    }
   ],
   "source": [
    "l2= ['Bangladesh', 'Austria', 'Denmark', 'Canada']\n",
    "l2.sort()\n",
    "l2"
   ]
  },
  {
   "cell_type": "code",
   "execution_count": 63,
   "id": "cb01395b",
   "metadata": {},
   "outputs": [],
   "source": [
    "#Dictionary"
   ]
  },
  {
   "cell_type": "code",
   "execution_count": 64,
   "id": "43007d9f",
   "metadata": {},
   "outputs": [
    {
     "data": {
      "text/plain": [
       "{'India': 1, 'Pakistan': 2, 'Czech Republic': 3}"
      ]
     },
     "execution_count": 64,
     "metadata": {},
     "output_type": "execute_result"
    }
   ],
   "source": [
    "dic= {\"India\":1, \"Pakistan\":2, \"Czech Republic\":3}\n",
    "dic"
   ]
  },
  {
   "cell_type": "code",
   "execution_count": 65,
   "id": "c360b835",
   "metadata": {},
   "outputs": [
    {
     "data": {
      "text/plain": [
       "dict_keys(['India', 'Pakistan', 'Czech Republic'])"
      ]
     },
     "execution_count": 65,
     "metadata": {},
     "output_type": "execute_result"
    }
   ],
   "source": [
    "dic= {\"India\":1, \"Pakistan\":2, \"Czech Republic\":3}\n",
    "dic.keys()\n",
    "#print keys"
   ]
  },
  {
   "cell_type": "code",
   "execution_count": 66,
   "id": "8c892521",
   "metadata": {},
   "outputs": [
    {
     "data": {
      "text/plain": [
       "dict_values([1, 2, 3])"
      ]
     },
     "execution_count": 66,
     "metadata": {},
     "output_type": "execute_result"
    }
   ],
   "source": [
    "dic= {\"India\":1, \"Pakistan\":2, \"Czech Republic\":3}\n",
    "dic.values()\n",
    "#print values"
   ]
  },
  {
   "cell_type": "code",
   "execution_count": 67,
   "id": "42b880e7",
   "metadata": {},
   "outputs": [
    {
     "data": {
      "text/plain": [
       "{'India': 1, 'Pakistan': 2, 'Czech Republic': 3, 'Germany': 4}"
      ]
     },
     "execution_count": 67,
     "metadata": {},
     "output_type": "execute_result"
    }
   ],
   "source": [
    "dic[\"Germany\"] = 4\n",
    "dic\n",
    "#add values "
   ]
  },
  {
   "cell_type": "code",
   "execution_count": 68,
   "id": "d7253ee2",
   "metadata": {},
   "outputs": [
    {
     "data": {
      "text/plain": [
       "{'India': 1,\n",
       " 'Pakistan': 2,\n",
       " 'Czech Republic': 3,\n",
       " 'Germany': 4,\n",
       " 'China': 5,\n",
       " 'Sweden': 6,\n",
       " 'Netherlands': 7,\n",
       " 'Austria': 8}"
      ]
     },
     "execution_count": 68,
     "metadata": {},
     "output_type": "execute_result"
    }
   ],
   "source": [
    "dic1={'China': 5, 'Sweden': 6, 'Netherlands': 7, 'Austria': 8}\n",
    "dic.update(dic1)\n",
    "dic\n",
    "#Update"
   ]
  },
  {
   "cell_type": "code",
   "execution_count": 69,
   "id": "74d5e4f7",
   "metadata": {},
   "outputs": [
    {
     "data": {
      "text/plain": [
       "{'Sweden': 6, 'Netherlands': 7, 'Austria': 8}"
      ]
     },
     "execution_count": 69,
     "metadata": {},
     "output_type": "execute_result"
    }
   ],
   "source": [
    "dic1.pop(\"China\")\n",
    "dic1\n",
    "#Pop element"
   ]
  },
  {
   "cell_type": "code",
   "execution_count": 70,
   "id": "5f1cac66",
   "metadata": {},
   "outputs": [],
   "source": [
    "#Set"
   ]
  },
  {
   "cell_type": "code",
   "execution_count": 71,
   "id": "3a8c4845",
   "metadata": {},
   "outputs": [
    {
     "data": {
      "text/plain": [
       "{(5+17j), 1, 3.14, 'Arjya'}"
      ]
     },
     "execution_count": 71,
     "metadata": {},
     "output_type": "execute_result"
    }
   ],
   "source": [
    "s1={1, 'Arjya', 3.14, 5+17j}\n",
    "s1"
   ]
  },
  {
   "cell_type": "code",
   "execution_count": 74,
   "id": "47f48dde",
   "metadata": {},
   "outputs": [
    {
     "data": {
      "text/plain": [
       "{1, 3.14, 'Arjya', 'Pink Floyd', 'pink Floyd'}"
      ]
     },
     "execution_count": 74,
     "metadata": {},
     "output_type": "execute_result"
    }
   ],
   "source": [
    "s1.add('pink Floyd')\n",
    "s1\n",
    "#Add"
   ]
  },
  {
   "cell_type": "code",
   "execution_count": 73,
   "id": "e43bc1e3",
   "metadata": {},
   "outputs": [
    {
     "data": {
      "text/plain": [
       "{1, 3.14, 'Arjya', 'pink Floyd'}"
      ]
     },
     "execution_count": 73,
     "metadata": {},
     "output_type": "execute_result"
    }
   ],
   "source": [
    "s1.remove(5+17j)\n",
    "s1\n",
    "#Remove"
   ]
  },
  {
   "cell_type": "code",
   "execution_count": 75,
   "id": "575b58ab",
   "metadata": {},
   "outputs": [
    {
     "ename": "TypeError",
     "evalue": "'complex' object is not iterable",
     "output_type": "error",
     "traceback": [
      "\u001b[1;31m---------------------------------------------------------------------------\u001b[0m",
      "\u001b[1;31mTypeError\u001b[0m                                 Traceback (most recent call last)",
      "Cell \u001b[1;32mIn[75], line 1\u001b[0m\n\u001b[1;32m----> 1\u001b[0m s1\u001b[38;5;241m.\u001b[39mupdate(\u001b[38;5;124m'\u001b[39m\u001b[38;5;124mSanta\u001b[39m\u001b[38;5;124m'\u001b[39m, \u001b[38;5;241m6\u001b[39m\u001b[38;5;241m+\u001b[39m\u001b[38;5;241m11\u001b[39mj, \u001b[38;5;241m7\u001b[39m, \u001b[38;5;124m'\u001b[39m\u001b[38;5;124mRHCP\u001b[39m\u001b[38;5;124m'\u001b[39m)\n\u001b[0;32m      2\u001b[0m s1\n",
      "\u001b[1;31mTypeError\u001b[0m: 'complex' object is not iterable"
     ]
    }
   ],
   "source": [
    "s1.update('Santa', 6+11j, 7, 'RHCP')\n",
    "s1"
   ]
  },
  {
   "cell_type": "code",
   "execution_count": 77,
   "id": "fa45e554",
   "metadata": {},
   "outputs": [
    {
     "data": {
      "text/plain": [
       "{1,\n",
       " 3.14,\n",
       " 'Arjya',\n",
       " 'C',\n",
       " 'H',\n",
       " 'P',\n",
       " 'Pink Floyd',\n",
       " 'R',\n",
       " 'S',\n",
       " 'a',\n",
       " 'n',\n",
       " 'pink Floyd',\n",
       " 't'}"
      ]
     },
     "execution_count": 77,
     "metadata": {},
     "output_type": "execute_result"
    }
   ],
   "source": [
    "s1.update('Santa', 'RHCP')\n",
    "s1"
   ]
  },
  {
   "cell_type": "code",
   "execution_count": 78,
   "id": "945068d4",
   "metadata": {},
   "outputs": [
    {
     "data": {
      "text/plain": [
       "{1,\n",
       " 3.14,\n",
       " 'Arjya',\n",
       " 'C',\n",
       " 'H',\n",
       " 'P',\n",
       " 'Pink Floyd',\n",
       " 'R',\n",
       " 'RHCP',\n",
       " 'S',\n",
       " 'Santa',\n",
       " 'a',\n",
       " 'n',\n",
       " 'pink Floyd',\n",
       " 't'}"
      ]
     },
     "execution_count": 78,
     "metadata": {},
     "output_type": "execute_result"
    }
   ],
   "source": [
    "s1.update(['Santa', 'RHCP'])\n",
    "s1\n",
    "#Update"
   ]
  },
  {
   "cell_type": "code",
   "execution_count": null,
   "id": "485a10c5",
   "metadata": {},
   "outputs": [],
   "source": []
  }
 ],
 "metadata": {
  "kernelspec": {
   "display_name": "Python 3 (ipykernel)",
   "language": "python",
   "name": "python3"
  },
  "language_info": {
   "codemirror_mode": {
    "name": "ipython",
    "version": 3
   },
   "file_extension": ".py",
   "mimetype": "text/x-python",
   "name": "python",
   "nbconvert_exporter": "python",
   "pygments_lexer": "ipython3",
   "version": "3.11.4"
  }
 },
 "nbformat": 4,
 "nbformat_minor": 5
}
